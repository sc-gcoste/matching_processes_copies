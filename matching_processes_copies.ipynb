{
 "cells": [
  {
   "cell_type": "code",
   "execution_count": 1,
   "metadata": {
    "collapsed": true
   },
   "outputs": [],
   "source": [
    "import re\n",
    "from dataclasses import dataclass\n",
    "\n",
    "import brightway2 as bw\n",
    "\n",
    "bw.projects.set_current(\"EF calculation\")\n",
    "\n",
    "\n",
    "@dataclass\n",
    "class CopyContext:\n",
    "    copy_in: str\n",
    "    copy_from: str\n",
    "    string_replacement: (str, str)\n",
    "\n",
    "    def __post_init__(self):\n",
    "        self.matches = {}\n",
    "        self.not_matched_copies = []\n",
    "        self.copies = [\n",
    "            x\n",
    "            for x in bw.Database(self.copy_in)\n",
    "            if re.search(self.string_replacement[0], x[\"name\"], re.IGNORECASE)\n",
    "        ]\n",
    "\n",
    "\n",
    "contexts = (\n",
    "    CopyContext(\n",
    "        copy_in=\"agribalyse3\",\n",
    "        copy_from=\"ecoinvent_3.8_cutoff_from_sp\",\n",
    "        string_replacement=(\"Cut-off, S - Copied from Ecoinvent\", \"Cut-off, U\"),\n",
    "    ),\n",
    "    CopyContext(\n",
    "        copy_in=\"agribalyse3\",\n",
    "        copy_from=\"WFLDB\",\n",
    "        string_replacement=(r\"\\(WFLDB \\d\\.\\d\\)\", \"(WFLDB)\"),\n",
    "    ),\n",
    "    CopyContext(\n",
    "        copy_in=\"WFLDB\",\n",
    "        copy_from=\"ecoinvent_3.8_cutoff_from_sp\",\n",
    "        string_replacement=(\"Cut-off, S - Copied from ecoinvent\", \"Cut-off, U\"),\n",
    "    ),\n",
    ")"
   ]
  },
  {
   "cell_type": "code",
   "execution_count": 2,
   "outputs": [
    {
     "data": {
      "text/plain": "  0%|          | 0/1366 [00:00<?, ?it/s]",
      "application/vnd.jupyter.widget-view+json": {
       "version_major": 2,
       "version_minor": 0,
       "model_id": "28d43f0dc13f4346be21d3ae76b63f8c"
      }
     },
     "metadata": {},
     "output_type": "display_data"
    },
    {
     "data": {
      "text/plain": "  0%|          | 0/372 [00:00<?, ?it/s]",
      "application/vnd.jupyter.widget-view+json": {
       "version_major": 2,
       "version_minor": 0,
       "model_id": "6feaa7c148084a9399dec9819c236b47"
      }
     },
     "metadata": {},
     "output_type": "display_data"
    },
    {
     "data": {
      "text/plain": "  0%|          | 0/663 [00:00<?, ?it/s]",
      "application/vnd.jupyter.widget-view+json": {
       "version_major": 2,
       "version_minor": 0,
       "model_id": "1c0d2e356c2b45dbb01d680c221ecf5a"
      }
     },
     "metadata": {},
     "output_type": "display_data"
    }
   ],
   "source": [
    "from tqdm.notebook import tqdm\n",
    "\n",
    "for context in contexts:\n",
    "    for copy_act in tqdm(context.copies):\n",
    "        try:\n",
    "            original_act = next(\n",
    "                act\n",
    "                for act in bw.Database(context.copy_from)\n",
    "                if (\n",
    "                    act[\"name\"].lower()\n",
    "                    == re.sub(\n",
    "                        *context.string_replacement, string=copy_act[\"name\"]\n",
    "                    ).lower()\n",
    "                )\n",
    "                and (act.get(\"location\") == copy_act.get(\"location\"))\n",
    "            )\n",
    "            context.matches[copy_act] = original_act\n",
    "\n",
    "        except StopIteration:\n",
    "            context.not_matched_copies.append(copy_act)"
   ],
   "metadata": {
    "collapsed": false
   }
  },
  {
   "cell_type": "code",
   "execution_count": 3,
   "outputs": [
    {
     "name": "stdout",
     "output_type": "stream",
     "text": [
      "agribalyse3 <- ecoinvent_3.8_cutoff_from_sp: 97%\n",
      "agribalyse3 <- WFLDB: 52%\n",
      "WFLDB <- ecoinvent_3.8_cutoff_from_sp: 97%\n"
     ]
    }
   ],
   "source": [
    "for context in contexts:\n",
    "    print(\n",
    "        f\"{context.copy_in} <- {context.copy_from}: {len(context.matches) / (len(context.copies)):.0%}\"\n",
    "    )"
   ],
   "metadata": {
    "collapsed": false
   }
  },
  {
   "cell_type": "markdown",
   "source": [
    "Asserting the GWP score of original and copy are similar"
   ],
   "metadata": {
    "collapsed": false
   }
  },
  {
   "cell_type": "code",
   "execution_count": 33,
   "outputs": [
    {
     "data": {
      "text/plain": "  0%|          | 0/1319 [00:00<?, ?it/s]",
      "application/vnd.jupyter.widget-view+json": {
       "version_major": 2,
       "version_minor": 0,
       "model_id": "bddf847b6067447a9594223380a31afb"
      }
     },
     "metadata": {},
     "output_type": "display_data"
    },
    {
     "data": {
      "text/plain": "  0%|          | 0/194 [00:00<?, ?it/s]",
      "application/vnd.jupyter.widget-view+json": {
       "version_major": 2,
       "version_minor": 0,
       "model_id": "b005405cc86041b4aa8de0aecb7d5199"
      }
     },
     "metadata": {},
     "output_type": "display_data"
    },
    {
     "data": {
      "text/plain": "  0%|          | 0/646 [00:00<?, ?it/s]",
      "application/vnd.jupyter.widget-view+json": {
       "version_major": 2,
       "version_minor": 0,
       "model_id": "42633e80e14e42b6af0c861e9eb82a49"
      }
     },
     "metadata": {},
     "output_type": "display_data"
    }
   ],
   "source": [
    "import pandas as pd\n",
    "\n",
    "method = (\"IPCC 2013\", \"climate change\", \"GWP 100a\")\n",
    "\n",
    "scores = []\n",
    "for context in contexts:\n",
    "    copy_lca = bw.LCA({list(context.matches.keys())[0]: 1}, method)\n",
    "    copy_lca.lci()\n",
    "    copy_lca.lcia()\n",
    "    original_lca = bw.LCA({list(context.matches.values())[0]: 1}, method)\n",
    "    original_lca.lci()\n",
    "    original_lca.lcia()\n",
    "\n",
    "    for copy_act, original_act in tqdm(context.matches.items()):\n",
    "        copy_lca.redo_lcia({copy_act: 1})\n",
    "        original_lca.redo_lcia({original_act: 1})\n",
    "        relative_difference = (\n",
    "            ((copy_lca.score - original_lca.score) / original_lca.score)\n",
    "            if original_lca.score != 0\n",
    "            else 0\n",
    "        )\n",
    "\n",
    "        scores.append(\n",
    "            {\n",
    "                \"copy_in\": context.copy_in,\n",
    "                \"copy_from\": context.copy_from,\n",
    "                \"copy\": copy_act.key,\n",
    "                \"original\": original_act.key,\n",
    "                \"copy_score\": copy_lca.score,\n",
    "                \"original_score\": original_lca.score,\n",
    "                \"relative_difference\": relative_difference,\n",
    "            }\n",
    "        )\n",
    "\n",
    "df = pd.DataFrame(scores)\n",
    "df.to_csv(\"matches_differences.csv\", index=False)"
   ],
   "metadata": {
    "collapsed": false
   }
  },
  {
   "cell_type": "code",
   "execution_count": null,
   "outputs": [],
   "source": [],
   "metadata": {
    "collapsed": false
   }
  }
 ],
 "metadata": {
  "kernelspec": {
   "display_name": "Python 3",
   "language": "python",
   "name": "python3"
  },
  "language_info": {
   "codemirror_mode": {
    "name": "ipython",
    "version": 2
   },
   "file_extension": ".py",
   "mimetype": "text/x-python",
   "name": "python",
   "nbconvert_exporter": "python",
   "pygments_lexer": "ipython2",
   "version": "2.7.6"
  }
 },
 "nbformat": 4,
 "nbformat_minor": 0
}

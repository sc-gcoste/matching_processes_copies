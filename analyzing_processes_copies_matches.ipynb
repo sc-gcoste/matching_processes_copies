{
 "cells": [
  {
   "cell_type": "code",
   "execution_count": null,
   "metadata": {},
   "outputs": [],
   "source": [
    "import matplotlib.pyplot as plt\n",
    "import pandas as pd\n",
    "\n",
    "df = pd.read_csv(\"matches_differences.csv\")\n",
    "df[\"abs_relative_difference\"] = abs(df[\"relative_difference\"])\n",
    "df[\"copy_in_from\"] = df.apply(lambda x: f\"{x['copy_in']} -> {x['copy_from']}\", axis=1)\n",
    "df"
   ]
  },
  {
   "cell_type": "code",
   "execution_count": null,
   "metadata": {},
   "outputs": [],
   "source": [
    "import seaborn as sns\n",
    "\n",
    "sns.set()\n",
    "\n",
    "sns.histplot([x for x in df[\"relative_difference\"] if -0.5 < x < 0.5])"
   ]
  },
  {
   "cell_type": "code",
   "execution_count": null,
   "metadata": {},
   "outputs": [],
   "source": [
    "fig, ax = plt.subplots()\n",
    "sns.ecdfplot(df, x=\"abs_relative_difference\", hue=\"copy_in_from\", ax=ax)\n",
    "ax.set_xlim(0, 1)"
   ]
  },
  {
   "cell_type": "code",
   "execution_count": null,
   "metadata": {},
   "outputs": [],
   "source": [
    "df[\"relative_difference\"].sort_values(key=lambda x: abs(x), ascending=False)"
   ]
  },
  {
   "cell_type": "code",
   "execution_count": null,
   "metadata": {},
   "outputs": [],
   "source": [
    "import numpy as np\n",
    "\n",
    "steps = [0, 0.01, 0.1, 1, 10, np.inf]\n",
    "\n",
    "for context_str in df[\"copy_in_from\"].unique():\n",
    "    sub_df = df[df[\"copy_in_from\"] == context_str]\n",
    "    print(context_str)\n",
    "    for i in range(len(steps) - 1):\n",
    "        low, high = steps[i], steps[i + 1]\n",
    "        print(\n",
    "            f\"{low} < abs_relative_difference < {high} : \"\n",
    "            f\"{sum((low < sub_df['abs_relative_difference']) & (sub_df['abs_relative_difference'] < high))}\"\n",
    "        )\n",
    "    print(\"\\n\")"
   ]
  },
  {
   "cell_type": "markdown",
   "metadata": {},
   "source": [
    "--------------\n",
    "### Having a look at a match with a high difference to understand where it comes from."
   ]
  },
  {
   "cell_type": "code",
   "execution_count": null,
   "metadata": {},
   "outputs": [],
   "source": [
    "high_rel_diff = df[(df[\"abs_relative_difference\"] > 1)].sort_values(\n",
    "    \"abs_relative_difference\", ascending=False\n",
    ")\n",
    "high_rel_diff"
   ]
  },
  {
   "cell_type": "code",
   "execution_count": null,
   "metadata": {},
   "outputs": [],
   "source": [
    "import brightway2 as bw\n",
    "\n",
    "bw.projects.set_current(\"EF calculation\")\n",
    "\n",
    "match_with_high_difference = high_rel_diff.iloc[3]\n",
    "\n",
    "original = bw.get_activity(eval(match_with_high_difference[\"original\"]))\n",
    "copy = bw.get_activity(eval(match_with_high_difference[\"copy\"]))\n",
    "copy[\"name\"]"
   ]
  },
  {
   "cell_type": "markdown",
   "metadata": {},
   "source": [
    "Computing inventories for original and copy"
   ]
  },
  {
   "cell_type": "code",
   "execution_count": null,
   "metadata": {},
   "outputs": [],
   "source": [
    "method = (\"IPCC 2013\", \"climate change\", \"GWP 100a\")\n",
    "\n",
    "original_lca = bw.LCA(demand={original: 1}, method=method)\n",
    "original_lca.lci()\n",
    "original_lca.lcia()\n",
    "\n",
    "copy_lca = bw.LCA(demand={copy: 1}, method=method)\n",
    "copy_lca.lci()\n",
    "copy_lca.lcia()"
   ]
  },
  {
   "cell_type": "code",
   "execution_count": null,
   "metadata": {},
   "outputs": [],
   "source": [
    "original_inventory = (\n",
    "    original_lca.to_dataframe(cutoff=1000000000).groupby(\"Flow\")[\"Amount\"].sum()\n",
    ")\n",
    "original_inventory"
   ]
  },
  {
   "cell_type": "code",
   "execution_count": null,
   "metadata": {},
   "outputs": [],
   "source": [
    "copy_inventory = (\n",
    "    copy_lca.to_dataframe(cutoff=1000000000).groupby(\"Flow\")[\"Amount\"].sum()\n",
    ")\n",
    "copy_inventory"
   ]
  },
  {
   "cell_type": "code",
   "execution_count": null,
   "metadata": {},
   "outputs": [],
   "source": [
    "characterization_factors = {cf[0]: cf[1] for cf in bw.Method(method).load()}"
   ]
  },
  {
   "cell_type": "markdown",
   "metadata": {},
   "source": [
    "Comparing the original and the copy inventories flow by flow"
   ]
  },
  {
   "cell_type": "code",
   "execution_count": null,
   "metadata": {},
   "outputs": [],
   "source": [
    "from tqdm.notebook import tqdm\n",
    "\n",
    "flows_comparison = []\n",
    "substances = set()\n",
    "for key, factor in tqdm(characterization_factors.items()):\n",
    "    flow = bw.get_activity(key)\n",
    "\n",
    "    # Avoiding to repeat the flows for each compartment as GWP is compartment independent\n",
    "    if flow[\"name\"] in substances:\n",
    "        continue\n",
    "    else:\n",
    "        substances.add(flow[\"name\"])\n",
    "\n",
    "    flows_comparison.append(\n",
    "        {\n",
    "            \"flow\": flow[\"name\"],\n",
    "            \"CF\": factor,\n",
    "            \"original_impact\": original_inventory.get(flow[\"name\"], 0),\n",
    "            \"copy_impact\": copy_inventory.get(flow[\"name\"], 0),\n",
    "            \"original_amount\": original_inventory.get(flow[\"name\"], 0) / factor,\n",
    "            \"copy_amount\": copy_inventory.get(flow[\"name\"], 0) / factor,\n",
    "        }\n",
    "    )\n",
    "\n",
    "flows_comparison = pd.DataFrame(flows_comparison)"
   ]
  },
  {
   "cell_type": "code",
   "execution_count": null,
   "metadata": {},
   "outputs": [],
   "source": [
    "flows_comparison[\"difference\"] = (\n",
    "    flows_comparison[\"original_impact\"] - flows_comparison[\"copy_impact\"]\n",
    ")\n",
    "flows_comparison[\"relative_difference\"] = (\n",
    "    flows_comparison[\"difference\"] / flows_comparison[\"original_impact\"]\n",
    ")\n",
    "flows_comparison = flows_comparison.sort_values(\"difference\")\n",
    "flows_comparison"
   ]
  },
  {
   "cell_type": "code",
   "execution_count": null,
   "metadata": {},
   "outputs": [],
   "source": []
  }
 ],
 "metadata": {},
 "nbformat": 4,
 "nbformat_minor": 0
}
